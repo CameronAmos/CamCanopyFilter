{
 "cells": [
  {
   "cell_type": "code",
   "execution_count": 48,
   "metadata": {},
   "outputs": [
    {
     "name": "stdout",
     "output_type": "stream",
     "text": [
      "[0, 32, 60, 58, 90, 120]\n"
     ]
    }
   ],
   "source": [
    "peaks_y1_rn = [0,32,58,90,120]\n",
    "peaks_y2_rn = [62,90,150]\n",
    "\n",
    "\n",
    "merged = []\n",
    "    \n",
    "\n",
    "if min(peaks_y1_rn) < min(peaks_y2_rn):\n",
    "    for o in range(len(peaks_y1_rn)):\n",
    "        for t in range(len(peaks_y2_rn)):\n",
    "            if abs(peaks_y1_rn[o] - peaks_y2_rn[t]) <= 16:\n",
    "                merged.append(int(0.5*(peaks_y1_rn[o]+peaks_y2_rn[t])))\n",
    "            else:\n",
    "                merged.append(int((peaks_y1_rn[o])))\n",
    "                break\n",
    "\n",
    "\n",
    "    for t in range(len(peaks_y2_rn)):\n",
    "        for m in range(len(merged)):\n",
    "            if abs(t - m) >= 16:\n",
    "                merged.append(int((peaks_y2_rn[t])))\n",
    "                \n",
    "                \n",
    "print (merged)"
   ]
  },
  {
   "cell_type": "code",
   "execution_count": null,
   "metadata": {},
   "outputs": [],
   "source": []
  }
 ],
 "metadata": {
  "kernelspec": {
   "display_name": "Python 3",
   "language": "python",
   "name": "python3"
  },
  "language_info": {
   "codemirror_mode": {
    "name": "ipython",
    "version": 3
   },
   "file_extension": ".py",
   "mimetype": "text/x-python",
   "name": "python",
   "nbconvert_exporter": "python",
   "pygments_lexer": "ipython3",
   "version": "3.6.4"
  }
 },
 "nbformat": 4,
 "nbformat_minor": 2
}
